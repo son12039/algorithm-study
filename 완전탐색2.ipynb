{
 "cells": [
  {
   "cell_type": "code",
   "execution_count": 111,
   "metadata": {},
   "outputs": [
    {
     "data": {
      "text/plain": [
       "3"
      ]
     },
     "execution_count": 111,
     "metadata": {},
     "output_type": "execute_result"
    }
   ],
   "source": [
    "def solution(n, wires):\n",
    "    a = n\n",
    "    for i in range(n-1):\n",
    "        w = wires.copy()\n",
    "        left = {w[i][0]}\n",
    "        right = {w[i][1]}\n",
    "        w.remove(w[i])\n",
    "        while w:\n",
    "            remove = []\n",
    "            for j in w:\n",
    "                if j[0] in left or j[1] in left:\n",
    "                    left.add(j[0])\n",
    "                    left.add(j[1])\n",
    "                    remove.append(j)\n",
    "                elif  j[0] in right or j[1] in right:\n",
    "                    right.add(j[0])\n",
    "                    right.add(j[1])\n",
    "                    remove.append(j)\n",
    "            for j in remove:\n",
    "                w.remove(j)\n",
    "        if a > abs(len(left)-len(right)):\n",
    "            a = abs(len(left)-len(right))\n",
    "    return a\n",
    "\n",
    "solution(9,[[1,3],[2,3],[3,4],[4,5],[4,6],[4,7],[7,8],[7,9]])"
   ]
  }
 ],
 "metadata": {
  "kernelspec": {
   "display_name": "Python 3",
   "language": "python",
   "name": "python3"
  },
  "language_info": {
   "codemirror_mode": {
    "name": "ipython",
    "version": 3
   },
   "file_extension": ".py",
   "mimetype": "text/x-python",
   "name": "python",
   "nbconvert_exporter": "python",
   "pygments_lexer": "ipython3",
   "version": "3.12.5"
  }
 },
 "nbformat": 4,
 "nbformat_minor": 2
}
