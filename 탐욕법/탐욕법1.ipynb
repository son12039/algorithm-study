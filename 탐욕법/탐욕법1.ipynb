{
 "cells": [
  {
   "cell_type": "code",
   "execution_count": null,
   "metadata": {},
   "outputs": [
    {
     "data": {
      "text/plain": [
       "8"
      ]
     },
     "execution_count": 18,
     "metadata": {},
     "output_type": "execute_result"
    }
   ],
   "source": [
    "def solution(name):\n",
    "    if set(name) == {'A'}:\n",
    "        return 0\n",
    "    answer = float('inf')\n",
    "\n",
    "    for i in range(len(name)//2 + 1):\n",
    "        l_r = name[-i:] + name[:-i] #왼쪽먼저 갔다가 + 오른쪽\n",
    "        r_l = name[i: :-1] + name[i+1:][::-1] # 기준점에서 빠꾸 + 좌측\n",
    "        for n in [l_r,r_l]:\n",
    "            # 끝에 A들은 셀 필요 없으므로 자르기\n",
    "            while n and n[-1] == 'A':\n",
    "                n = n[:-1]\n",
    "            cnt = [min(ord(c)-65, (90+1) - ord(c)) for c in n ]\n",
    "            answer = min(answer, i + (len(cnt)-1) + sum(cnt))\n",
    "\n",
    "    return answer\n",
    "solution(\"BBBAAAAAB\")\n",
    " # 8"
   ]
  }
 ],
 "metadata": {
  "kernelspec": {
   "display_name": "Python 3",
   "language": "python",
   "name": "python3"
  },
  "language_info": {
   "codemirror_mode": {
    "name": "ipython",
    "version": 3
   },
   "file_extension": ".py",
   "mimetype": "text/x-python",
   "name": "python",
   "nbconvert_exporter": "python",
   "pygments_lexer": "ipython3",
   "version": "3.12.5"
  }
 },
 "nbformat": 4,
 "nbformat_minor": 2
}
