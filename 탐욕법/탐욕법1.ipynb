{
 "cells": [
  {
   "cell_type": "code",
   "execution_count": null,
   "metadata": {},
   "outputs": [
    {
     "data": {
      "text/plain": [
       "56"
      ]
     },
     "execution_count": 8,
     "metadata": {},
     "output_type": "execute_result"
    }
   ],
   "source": [
    "def solution(name):\n",
    "    n = len(name)\n",
    "    re = sum(min(ord(name[i])-65,90-ord(name[i])+1) for i in range(n))\n",
    "    \n",
    "    move = n-1\n",
    "    \n",
    "    for i in range(n):\n",
    "        ii = i+1\n",
    "        while ii < n and name[ii] == \"A\":\n",
    "            ii +=1\n",
    "        move = min(move,i+n-ii)\n",
    "\n",
    "    return move+re\n",
    "solution(\"JAN\")\n",
    " # 4 2    0123456"
   ]
  }
 ],
 "metadata": {
  "kernelspec": {
   "display_name": "Python 3",
   "language": "python",
   "name": "python3"
  },
  "language_info": {
   "codemirror_mode": {
    "name": "ipython",
    "version": 3
   },
   "file_extension": ".py",
   "mimetype": "text/x-python",
   "name": "python",
   "nbconvert_exporter": "python",
   "pygments_lexer": "ipython3",
   "version": "3.12.5"
  }
 },
 "nbformat": 4,
 "nbformat_minor": 2
}
