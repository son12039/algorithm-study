{
 "cells": [
  {
   "cell_type": "code",
   "execution_count": null,
   "metadata": {},
   "outputs": [
    {
     "name": "stdout",
     "output_type": "stream",
     "text": [
      "[[0, 2], [1, 1], [2, 3], [3, 2]] [1, 2, 2, 3]\n"
     ]
    },
    {
     "data": {
      "text/plain": [
       "1"
      ]
     },
     "execution_count": 72,
     "metadata": {},
     "output_type": "execute_result"
    }
   ],
   "source": [
    "def solution(p, l):\n",
    "    qu = [[i, ii] for i, ii in enumerate(p)]\n",
    "    turn = 0\n",
    "    cur = max(p)\n",
    "    p.sort()\n",
    "    print(qu,p)\n",
    "    while qu:\n",
    "        c = qu.pop(0)\n",
    "        if c[1] == cur:\n",
    "            turn +=1\n",
    "            p.pop()\n",
    "            if not qu:\n",
    "                return turn +1\n",
    "            cur = p[-1]\n",
    "            if c[0] == l:\n",
    "                return turn       \n",
    "        else :\n",
    "            qu.append(c)\n",
    "    \n",
    "\n",
    "solution([2, 1, 3, 2],2)"
   ]
  }
 ],
 "metadata": {
  "kernelspec": {
   "display_name": "Python 3",
   "language": "python",
   "name": "python3"
  },
  "language_info": {
   "codemirror_mode": {
    "name": "ipython",
    "version": 3
   },
   "file_extension": ".py",
   "mimetype": "text/x-python",
   "name": "python",
   "nbconvert_exporter": "python",
   "pygments_lexer": "ipython3",
   "version": "3.12.5"
  }
 },
 "nbformat": 4,
 "nbformat_minor": 2
}
