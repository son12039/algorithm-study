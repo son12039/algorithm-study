{
 "cells": [
  {
   "cell_type": "code",
   "execution_count": 6,
   "metadata": {},
   "outputs": [
    {
     "name": "stdout",
     "output_type": "stream",
     "text": [
      "시작 30\n",
      "위 [[50, 11], [30, 12]]\n",
      "시작 10\n",
      "위 [[50, 11], [30, 12], [10, 13]]\n",
      "시작 10\n",
      "위 [[50, 11], [30, 12], [10, 13], [10, 14]]\n",
      "시작 30\n",
      "하나뺌 [50, 11]\n",
      "아래 [[30, 12], [10, 13], [10, 14], [30, 21]]\n",
      "시작 10\n",
      "위 [[30, 12], [10, 13], [10, 14], [30, 21], [10, 22]]\n",
      "시작 40\n",
      "하나뺌 [30, 12]\n",
      "아래 [[10, 13], [10, 14], [30, 21], [10, 22], [40, 23]]\n"
     ]
    },
    {
     "data": {
      "text/plain": [
       "23"
      ]
     },
     "execution_count": 6,
     "metadata": {},
     "output_type": "execute_result"
    }
   ],
   "source": [
    "def solution(b, w, truck):\n",
    "    cur = []\n",
    "    m = truck[0]\n",
    "    cur.append([truck.pop(0),b+1])\n",
    "    a = [0,0]\n",
    "    for i in truck:\n",
    "        print(\"시작\",i)\n",
    "        if m + i <= w:\n",
    "            cur.append([i,cur[-1][1]+1])\n",
    "            m += i\n",
    "            print(\"위\",cur)\n",
    "        else:\n",
    "            while m + i > w:\n",
    "                a = cur.pop(0)\n",
    "                print(\"하나뺌\",a)\n",
    "                m -= a[0]\n",
    "            if cur:\n",
    "                cur.append([i, max(a[1] + b,cur[-1][1]+1)])\n",
    "            else: \n",
    "                cur.append([i, a[1]+b])\n",
    "            m += i \n",
    "            print(\"아래\",cur)\n",
    "    return cur[-1][1]\n",
    "solution(10,100,[50, 30, 10, 10, 30, 10, 40])\n"
   ]
  },
  {
   "cell_type": "code",
   "execution_count": null,
   "metadata": {},
   "outputs": [],
   "source": []
  }
 ],
 "metadata": {
  "kernelspec": {
   "display_name": "Python 3",
   "language": "python",
   "name": "python3"
  },
  "language_info": {
   "codemirror_mode": {
    "name": "ipython",
    "version": 3
   },
   "file_extension": ".py",
   "mimetype": "text/x-python",
   "name": "python",
   "nbconvert_exporter": "python",
   "pygments_lexer": "ipython3",
   "version": "3.12.5"
  }
 },
 "nbformat": 4,
 "nbformat_minor": 2
}
