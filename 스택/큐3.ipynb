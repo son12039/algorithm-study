{
 "cells": [
  {
   "cell_type": "code",
   "execution_count": 68,
   "metadata": {},
   "outputs": [
    {
     "data": {
      "text/plain": [
       "202"
      ]
     },
     "execution_count": 68,
     "metadata": {},
     "output_type": "execute_result"
    }
   ],
   "source": [
    "def solution(b, w, truck):\n",
    "    cur = []\n",
    "    cur.append([truck.pop(0),1+b])\n",
    "    while truck:\n",
    "        if sum(i[0] for i in cur) + truck[0] <= w:\n",
    "            cur.append([truck.pop(0),cur[-1][1]+1])\n",
    "        else:\n",
    "            cur.append([truck.pop(0),cur[-1][1]+b])\n",
    "            cur.pop(0)\n",
    "\n",
    "    return cur[-1][1]\n",
    "\n",
    "solution(100, 100, [50, 60, 30])"
   ]
  },
  {
   "cell_type": "code",
   "execution_count": null,
   "metadata": {},
   "outputs": [],
   "source": []
  }
 ],
 "metadata": {
  "kernelspec": {
   "display_name": "Python 3",
   "language": "python",
   "name": "python3"
  },
  "language_info": {
   "codemirror_mode": {
    "name": "ipython",
    "version": 3
   },
   "file_extension": ".py",
   "mimetype": "text/x-python",
   "name": "python",
   "nbconvert_exporter": "python",
   "pygments_lexer": "ipython3",
   "version": "3.12.5"
  }
 },
 "nbformat": 4,
 "nbformat_minor": 2
}
