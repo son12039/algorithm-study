{
 "cells": [
  {
   "cell_type": "code",
   "execution_count": null,
   "metadata": {},
   "outputs": [
    {
     "name": "stdout",
     "output_type": "stream",
     "text": [
      "1\n",
      "2\n",
      "3\n",
      "2\n",
      "0 2 히에엥ㄱ\n",
      "1 3 히에엥ㄱ\n",
      "2 2 히에엥ㄱ\n",
      "3 1 히에엥ㄱ\n",
      "지금 이상해 3 1\n",
      "[1, 2, 3, 2] 지금 2\n",
      "3\n",
      "0 3 히에엥ㄱ\n",
      "1 2 히에엥ㄱ\n",
      "지금 이상해 1 2\n",
      "[1, 2, 3, 2, 3] 지금 3\n",
      "끝ㅌ [1, 2, 3, 2, 3]\n"
     ]
    },
    {
     "data": {
      "text/plain": [
       "[4, 3, 2, 1, 0]"
      ]
     },
     "execution_count": 23,
     "metadata": {},
     "output_type": "execute_result"
    }
   ],
   "source": [
    "def solution(p):\n",
    "    an = [i for i in reversed(range(len(p)))]\n",
    "    l = []\n",
    "    for i in p:\n",
    "        print(i)\n",
    "        if not l or max(l) < i:\n",
    "            l.append(i)\n",
    "        else: \n",
    "            l.append(i)\n",
    "            for j,jj in enumerate(reversed(l)):\n",
    "                print(j,jj,\"히에엥ㄱ\")\n",
    "                if jj < i:\n",
    "                    print(\"지금 이상해\",j,jj)\n",
    "                    break\n",
    "            print(l,\"지금\",i)\n",
    "    print(\"끝ㅌ\",l)\n",
    "    return an\n",
    "\n",
    "solution([1, 2, 3, 2, 3])"
   ]
  }
 ],
 "metadata": {
  "kernelspec": {
   "display_name": "Python 3",
   "language": "python",
   "name": "python3"
  },
  "language_info": {
   "codemirror_mode": {
    "name": "ipython",
    "version": 3
   },
   "file_extension": ".py",
   "mimetype": "text/x-python",
   "name": "python",
   "nbconvert_exporter": "python",
   "pygments_lexer": "ipython3",
   "version": "3.12.5"
  }
 },
 "nbformat": 4,
 "nbformat_minor": 2
}
