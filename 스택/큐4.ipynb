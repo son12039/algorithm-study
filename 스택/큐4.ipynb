{
 "cells": [
  {
   "cell_type": "code",
   "execution_count": 12,
   "metadata": {},
   "outputs": [
    {
     "name": "stdout",
     "output_type": "stream",
     "text": [
      "[0] 0 넣음\n",
      "[0, 1] 1 넣음\n",
      "[0, 1, 2] 2 넣음\n",
      "지움\n",
      "[0, 1, 3] 3 넣음\n",
      "[0, 1, 3, 4] 4 넣음\n",
      "[0, 1, 3, 4] 완성\n"
     ]
    },
    {
     "data": {
      "text/plain": [
       "[4, 3, 1, 1, 0]"
      ]
     },
     "execution_count": 12,
     "metadata": {},
     "output_type": "execute_result"
    }
   ],
   "source": [
    "def solution(prices):\n",
    "    n = len(prices)\n",
    "    result = [0] * n  # 가격이 떨어지지 않은 기간을 담을 리스트\n",
    "    stack = []  # 스택을 사용하여 가격을 추적\n",
    "    \n",
    "    for i in range(n):\n",
    "        # 스택에 있는 가격들과 비교하여, 가격이 떨어지기 전까지의 기간을 계산\n",
    "        while stack and prices[stack[-1]] > prices[i]:\n",
    "            idx = stack.pop()  # 가격이 떨어진 시점\n",
    "            result[idx] = i - idx  # 가격이 떨어진 시점까지의 기간을 기록\n",
    "            print(\"지움\")\n",
    "        stack.append(i)  # 현재 가격 인덱스를 스택에 추가\n",
    "        print(stack,i,\"넣음\")\n",
    "    # 스택에 남아 있는 값들은 끝까지 가격이 떨어지지 않았으므로 그 기간을 기록\n",
    "    print(stack,\"완성\")\n",
    "    while stack:\n",
    "        idx = stack.pop()\n",
    "        result[idx] = n - idx - 1\n",
    "    \n",
    "    return result\n",
    "\n",
    "\n",
    "solution([1, 2, 3, 2, 3])\n",
    "# 답 4,2,1,1,0"
   ]
  },
  {
   "cell_type": "code",
   "execution_count": null,
   "metadata": {},
   "outputs": [],
   "source": []
  }
 ],
 "metadata": {
  "kernelspec": {
   "display_name": "Python 3",
   "language": "python",
   "name": "python3"
  },
  "language_info": {
   "codemirror_mode": {
    "name": "ipython",
    "version": 3
   },
   "file_extension": ".py",
   "mimetype": "text/x-python",
   "name": "python",
   "nbconvert_exporter": "python",
   "pygments_lexer": "ipython3",
   "version": "3.12.5"
  }
 },
 "nbformat": 4,
 "nbformat_minor": 2
}
