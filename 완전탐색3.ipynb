{
 "cells": [
  {
   "cell_type": "code",
   "execution_count": null,
   "metadata": {},
   "outputs": [
    {
     "data": {
      "text/plain": [
       "7"
      ]
     },
     "execution_count": 131,
     "metadata": {},
     "output_type": "execute_result"
    }
   ],
   "source": [
    "import itertools\n",
    "def solution(n):\n",
    "    a= set()\n",
    "    for i in range(len(n)):\n",
    "        a |= set(map(int,map(\"\".join,(itertools.permutations(list(n),i+1)))))\n",
    "    a -= set(range(0, 2))\n",
    "    for i in range(2,int(max(a)**0.5)+1):     \n",
    "        a -= set(range(i*2,max(a)+1,i))\n",
    "    return len(a)\n",
    "\n",
    "solution(\"311\")\n",
    "1 10 1 1 10 1"
   ]
  },
  {
   "cell_type": "code",
   "execution_count": null,
   "metadata": {},
   "outputs": [],
   "source": []
  }
 ],
 "metadata": {
  "kernelspec": {
   "display_name": "Python 3",
   "language": "python",
   "name": "python3"
  },
  "language_info": {
   "codemirror_mode": {
    "name": "ipython",
    "version": 3
   },
   "file_extension": ".py",
   "mimetype": "text/x-python",
   "name": "python",
   "nbconvert_exporter": "python",
   "pygments_lexer": "ipython3",
   "version": "3.12.5"
  }
 },
 "nbformat": 4,
 "nbformat_minor": 2
}
