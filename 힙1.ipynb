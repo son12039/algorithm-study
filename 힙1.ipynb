{
 "cells": [
  {
   "cell_type": "code",
   "execution_count": 44,
   "metadata": {},
   "outputs": [],
   "source": [
    "from heapq import heapify, heappush, heappop\n",
    "def solution(scoville, K):\n",
    "    heapify(scoville)\n",
    "    for i in range(1000000):\n",
    "        try:\n",
    "            heappush(scoville, heappop(scoville)+(heappop(scoville)*2))\n",
    "            if scoville[0] >= K: return i+1\n",
    "        except:\n",
    "            return -1"
   ]
  }
 ],
 "metadata": {
  "kernelspec": {
   "display_name": "Python 3",
   "language": "python",
   "name": "python3"
  },
  "language_info": {
   "codemirror_mode": {
    "name": "ipython",
    "version": 3
   },
   "file_extension": ".py",
   "mimetype": "text/x-python",
   "name": "python",
   "nbconvert_exporter": "python",
   "pygments_lexer": "ipython3",
   "version": "3.12.5"
  }
 },
 "nbformat": 4,
 "nbformat_minor": 2
}
