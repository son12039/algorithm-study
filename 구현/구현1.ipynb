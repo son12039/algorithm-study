{
 "cells": [
  {
   "cell_type": "code",
   "execution_count": null,
   "metadata": {},
   "outputs": [
    {
     "name": "stdout",
     "output_type": "stream",
     "text": [
      "[1, 2, 12, 3, 13, 11, 4, 14, 15, 10, 5, 6, 7, 8, 9]\n"
     ]
    },
    {
     "ename": "",
     "evalue": "",
     "output_type": "error",
     "traceback": [
      "\u001b[1;31mThe Kernel crashed while executing code in the current cell or a previous cell. \n",
      "\u001b[1;31mPlease review the code in the cell(s) to identify a possible cause of the failure. \n",
      "\u001b[1;31mClick <a href='https://aka.ms/vscodeJupyterKernelCrash'>here</a> for more info. \n",
      "\u001b[1;31mView Jupyter <a href='command:jupyter.viewOutput'>log</a> for further details."
     ]
    }
   ],
   "source": [
    "import itertools\n",
    "def solution(n):\n",
    "    arr = [[0] * (i + 1) for i in range(n)] \n",
    "    x, y = 0, 0\n",
    "    num = 1\n",
    "    while num <= n * (n + 1) // 2:\n",
    "        while x < n and arr[x][y] == 0:\n",
    "            arr[x][y] = num\n",
    "            num +=1\n",
    "            x += 1\n",
    "        x -= 1\n",
    "        y += 1\n",
    "        while y < n and arr[x][y] == 0:\n",
    "            a = True\n",
    "            arr[x][y] = num\n",
    "            num +=1\n",
    "            y += 1\n",
    "        x -= 1\n",
    "        y -= 2\n",
    "        while arr[x][y] == 0:\n",
    "            a = True\n",
    "            arr[x][y] = num\n",
    "            num +=1\n",
    "            y -= 1\n",
    "            x -= 1\n",
    "        x += 2\n",
    "        y += 1\n",
    "    return list(itertools.chain(*arr))\n",
    "print(solution(5))\n",
    "\n",
    "# 11/16 \\1\\ \n",
    "\n",
    "\n",
    "# from itertools import chain as SEX\n",
    "\n",
    "# def solution(n):\n",
    "#     # 초기화\n",
    "#     row, col, cnt = -1, 0, 1\n",
    "#     board = [[None] * i for i in range(1, n + 1)]\n",
    "    \n",
    "#     # 삼각형 채우기\n",
    "#     for i in range(n):\n",
    "#         for _ in range(n - i):  # 각 행에 대해 숫자 채우기\n",
    "#             if i % 3 == 0:  # 아래로 내려가기\n",
    "#                 row += 1\n",
    "#             elif i % 3 == 1:  # 오른쪽으로 가기\n",
    "#                 col += 1\n",
    "#             else:  # 대각선 위로 가기\n",
    "#                 row -= 1\n",
    "#                 col -= 1\n",
    "#             board[row][col] = cnt\n",
    "#             cnt += 1\n",
    "    \n",
    "#     # 2D 배열을 1D 배열로 평탄화\n",
    "#     return list(SEX(*board))"
   ]
  },
  {
   "cell_type": "code",
   "execution_count": null,
   "metadata": {},
   "outputs": [],
   "source": []
  }
 ],
 "metadata": {
  "kernelspec": {
   "display_name": "Python 3",
   "language": "python",
   "name": "python3"
  },
  "language_info": {
   "codemirror_mode": {
    "name": "ipython",
    "version": 3
   },
   "file_extension": ".py",
   "mimetype": "text/x-python",
   "name": "python",
   "nbconvert_exporter": "python",
   "pygments_lexer": "ipython3",
   "version": "3.12.5"
  }
 },
 "nbformat": 4,
 "nbformat_minor": 2
}
