{
 "cells": [
  {
   "cell_type": "code",
   "execution_count": null,
   "metadata": {},
   "outputs": [
    {
     "name": "stdout",
     "output_type": "stream",
     "text": [
      "['(', ')', ')', ')', '(', '(', '(', ')']\n",
      "(\n",
      ")\n",
      ")\n",
      ")\n",
      "(\n",
      "(\n",
      "(\n",
      ")\n"
     ]
    },
    {
     "data": {
      "text/plain": [
       "'()))((()'"
      ]
     },
     "execution_count": 47,
     "metadata": {},
     "output_type": "execute_result"
    }
   ],
   "source": [
    "def solution(p):\n",
    "    l = list(p)\n",
    "    print(l)\n",
    "    a = \"\"\n",
    "    c = 0\n",
    "    t = 0\n",
    "\n",
    "    for i in p:\n",
    "        if i == \"(\":\n",
    "            c +=1\n",
    "        else:\n",
    "            c -=1\n",
    "\n",
    "\n",
    "    t += 1\n",
    "    print(c)\n",
    "    return \"\".join(l)\n",
    "\n",
    "solution(\"()))((()\")"
   ]
  },
  {
   "cell_type": "markdown",
   "metadata": {},
   "source": []
  }
 ],
 "metadata": {
  "kernelspec": {
   "display_name": "Python 3",
   "language": "python",
   "name": "python3"
  },
  "language_info": {
   "codemirror_mode": {
    "name": "ipython",
    "version": 3
   },
   "file_extension": ".py",
   "mimetype": "text/x-python",
   "name": "python",
   "nbconvert_exporter": "python",
   "pygments_lexer": "ipython3",
   "version": "3.12.5"
  }
 },
 "nbformat": 4,
 "nbformat_minor": 2
}
