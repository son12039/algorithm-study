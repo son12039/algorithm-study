{
 "cells": [
  {
   "cell_type": "code",
   "execution_count": 29,
   "metadata": {},
   "outputs": [
    {
     "name": "stdout",
     "output_type": "stream",
     "text": [
      ")( \n",
      "True\n",
      "탈락\n"
     ]
    },
    {
     "data": {
      "text/plain": [
       "1"
      ]
     },
     "execution_count": 29,
     "metadata": {},
     "output_type": "execute_result"
    }
   ],
   "source": [
    "def solution(p):\n",
    "\n",
    "    def split_xy(s):\n",
    "        bal = 0\n",
    "        for i in range(len(s)):\n",
    "            if s[i] == \"(\":\n",
    "                bal += 1\n",
    "            else :\n",
    "                bal -= 1\n",
    "            if bal == 0:\n",
    "                return s[:i+1] ,s[i+1:]\n",
    "    def is_bal(s):\n",
    "        bal = 0\n",
    "        for i in s:\n",
    "            if i == \"(\":\n",
    "                bal += 1\n",
    "            else : \n",
    "                bal -= 1\n",
    "            if bal < 0:\n",
    "                return False\n",
    "        return bal == 0\n",
    "            \n",
    "\n",
    "    x,y = list(split_xy(p))\n",
    "    print(x,y)\n",
    "    print(bool(x))\n",
    "    if not is_bal(x):\n",
    "        print(\"탈락\")\n",
    "    return 1\n",
    "\n",
    "solution(\")(\")"
   ]
  },
  {
   "cell_type": "markdown",
   "metadata": {},
   "source": []
  }
 ],
 "metadata": {
  "kernelspec": {
   "display_name": "Python 3",
   "language": "python",
   "name": "python3"
  },
  "language_info": {
   "codemirror_mode": {
    "name": "ipython",
    "version": 3
   },
   "file_extension": ".py",
   "mimetype": "text/x-python",
   "name": "python",
   "nbconvert_exporter": "python",
   "pygments_lexer": "ipython3",
   "version": "3.12.5"
  }
 },
 "nbformat": 4,
 "nbformat_minor": 2
}
