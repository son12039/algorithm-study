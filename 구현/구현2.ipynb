{
 "cells": [
  {
   "cell_type": "code",
   "execution_count": null,
   "metadata": {},
   "outputs": [],
   "source": [
    "def solution(d):\n",
    "    i = 0\n",
    "    temp = 0\n",
    "    point = []\n",
    "    sq = {\"S\": 1, \"D\": 2, \"T\": 3}\n",
    "    while len(d) > i:\n",
    "        if d[i].isdigit():\n",
    "            if d[i+1].isdigit():\n",
    "                temp = 10\n",
    "                i+=1\n",
    "            else: temp = int(d[i])\n",
    "            point.append(temp**(sq[d[i+1]]))\n",
    "            i+=1\n",
    "        elif d[i] == \"*\":\n",
    "            if len(point) == 1:\n",
    "                point[0] *= 2\n",
    "            else:\n",
    "                point[-1] *= 2\n",
    "                point[-2] *= 2\n",
    "        else:\n",
    "            point[-1] *= -1\n",
    "        i+=1\n",
    "    return sum(point)\n",
    "\n",
    "solution(\"1S2D*3T\")"
   ]
  }
 ],
 "metadata": {
  "language_info": {
   "name": "python"
  }
 },
 "nbformat": 4,
 "nbformat_minor": 2
}
