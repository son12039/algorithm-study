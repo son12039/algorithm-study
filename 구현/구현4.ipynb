{
 "cells": [
  {
   "cell_type": "code",
   "execution_count": 16,
   "metadata": {},
   "outputs": [
    {
     "name": "stdout",
     "output_type": "stream",
     "text": [
      "['Enter', 'uid1234', 'Muzi'] 드가자\n",
      "['Enter', 'uid4567', 'Prodo'] 드가자\n",
      "['Enter', 'uid1234', 'Prodo'] 드가자\n",
      "['Change', 'uid4567', 'Ryan'] 드가자\n",
      "{'uid1234': 'Prodo', 'uid4567': 'Ryan'} 마지막\n"
     ]
    },
    {
     "data": {
      "text/plain": [
       "['Prodo님이 들어왔습니다.', 'Ryan님이 들어왔습니다.', 'Prodo님이 나갔습니다.', 'Prodo님이 들어왔습니다.']"
      ]
     },
     "execution_count": 16,
     "metadata": {},
     "output_type": "execute_result"
    }
   ],
   "source": [
    "def solution(r):\n",
    "    e = {}\n",
    "    re = []\n",
    "    for i in r:\n",
    "        c = i.split()\n",
    "        if c[0] != \"Leave\" :\n",
    "            e[c[1]] = c[2]\n",
    "            print(c,\"드가자\")\n",
    "    print(e,\"마지막\")\n",
    "    for i in r:\n",
    "        c = i.split()\n",
    "        if  c[0] == \"Enter\":\n",
    "            re.append(e.get(c[1])+\"님이 들어왔습니다.\")\n",
    "        elif c[0] == \"Leave\":\n",
    "            re.append(e.get(c[1])+\"님이 나갔습니다.\")\n",
    "    return re\n",
    "\n",
    "solution([\"Enter uid1234 Muzi\", \"Enter uid4567 Prodo\",\"Leave uid1234\",\"Enter uid1234 Prodo\",\"Change uid4567 Ryan\"])"
   ]
  }
 ],
 "metadata": {
  "kernelspec": {
   "display_name": "Python 3",
   "language": "python",
   "name": "python3"
  },
  "language_info": {
   "codemirror_mode": {
    "name": "ipython",
    "version": 3
   },
   "file_extension": ".py",
   "mimetype": "text/x-python",
   "name": "python",
   "nbconvert_exporter": "python",
   "pygments_lexer": "ipython3",
   "version": "3.12.5"
  }
 },
 "nbformat": 4,
 "nbformat_minor": 2
}
