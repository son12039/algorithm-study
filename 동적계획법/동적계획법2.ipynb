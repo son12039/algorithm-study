{
 "cells": [
  {
   "cell_type": "code",
   "execution_count": null,
   "metadata": {},
   "outputs": [
    {
     "ename": "KeyboardInterrupt",
     "evalue": "",
     "output_type": "error",
     "traceback": [
      "\u001b[1;31m---------------------------------------------------------------------------\u001b[0m",
      "\u001b[1;31mKeyboardInterrupt\u001b[0m                         Traceback (most recent call last)",
      "Cell \u001b[1;32mIn[30], line 26\u001b[0m\n\u001b[0;32m     23\u001b[0m     \u001b[38;5;28;01mreturn\u001b[39;00m dp[number] \u001b[38;5;28;01mif\u001b[39;00m dp[number] \u001b[38;5;241m!=\u001b[39m \u001b[38;5;28mfloat\u001b[39m(\u001b[38;5;124m'\u001b[39m\u001b[38;5;124minf\u001b[39m\u001b[38;5;124m'\u001b[39m) \u001b[38;5;28;01melse\u001b[39;00m \u001b[38;5;241m-\u001b[39m\u001b[38;5;241m1\u001b[39m\n\u001b[0;32m     25\u001b[0m \u001b[38;5;66;03m# 테스트\u001b[39;00m\n\u001b[1;32m---> 26\u001b[0m \u001b[38;5;28mprint\u001b[39m(\u001b[43msolution\u001b[49m\u001b[43m(\u001b[49m\u001b[38;5;241;43m5\u001b[39;49m\u001b[43m,\u001b[49m\u001b[43m \u001b[49m\u001b[38;5;241;43m12\u001b[39;49m\u001b[43m)\u001b[49m)  \u001b[38;5;66;03m# 예시: 12를 5로 만들 수 있는 최소 횟수\u001b[39;00m\n\u001b[0;32m     27\u001b[0m \u001b[38;5;28mprint\u001b[39m(solution(\u001b[38;5;241m2\u001b[39m, \u001b[38;5;241m11\u001b[39m))  \u001b[38;5;66;03m# 예시: 11을 2로 만들 수 있는 최소 횟수\u001b[39;00m\n",
      "Cell \u001b[1;32mIn[30], line 17\u001b[0m, in \u001b[0;36msolution\u001b[1;34m(N, number)\u001b[0m\n\u001b[0;32m     14\u001b[0m \u001b[38;5;28;01mfor\u001b[39;00m j \u001b[38;5;129;01min\u001b[39;00m \u001b[38;5;28mrange\u001b[39m(\u001b[38;5;241m1\u001b[39m, i \u001b[38;5;241m/\u001b[39m\u001b[38;5;241m/\u001b[39m \u001b[38;5;241m2\u001b[39m \u001b[38;5;241m+\u001b[39m \u001b[38;5;241m1\u001b[39m):\n\u001b[0;32m     15\u001b[0m     \u001b[38;5;66;03m# 덧셈과 뺄셈 처리\u001b[39;00m\n\u001b[0;32m     16\u001b[0m     dp[i] \u001b[38;5;241m=\u001b[39m \u001b[38;5;28mmin\u001b[39m(dp[i], dp[i \u001b[38;5;241m-\u001b[39m j] \u001b[38;5;241m+\u001b[39m dp[j])  \u001b[38;5;66;03m# 덧셈\u001b[39;00m\n\u001b[1;32m---> 17\u001b[0m     dp[i] \u001b[38;5;241m=\u001b[39m \u001b[38;5;28;43mmin\u001b[39;49m\u001b[43m(\u001b[49m\u001b[43mdp\u001b[49m\u001b[43m[\u001b[49m\u001b[43mi\u001b[49m\u001b[43m]\u001b[49m\u001b[43m,\u001b[49m\u001b[43m \u001b[49m\u001b[43mdp\u001b[49m\u001b[43m[\u001b[49m\u001b[43mj\u001b[49m\u001b[43m]\u001b[49m\u001b[43m \u001b[49m\u001b[38;5;241;43m+\u001b[39;49m\u001b[43m \u001b[49m\u001b[43mdp\u001b[49m\u001b[43m[\u001b[49m\u001b[43mi\u001b[49m\u001b[43m \u001b[49m\u001b[38;5;241;43m-\u001b[39;49m\u001b[43m \u001b[49m\u001b[43mj\u001b[49m\u001b[43m]\u001b[49m\u001b[43m)\u001b[49m  \u001b[38;5;66;03m# 곱셈\u001b[39;00m\n\u001b[0;32m     18\u001b[0m     \u001b[38;5;66;03m# 나누기 처리 (나누어 떨어지는 경우만)\u001b[39;00m\n\u001b[0;32m     19\u001b[0m     \u001b[38;5;28;01mif\u001b[39;00m i \u001b[38;5;241m%\u001b[39m j \u001b[38;5;241m==\u001b[39m \u001b[38;5;241m0\u001b[39m:\n",
      "\u001b[1;31mKeyboardInterrupt\u001b[0m: "
     ]
    }
   ],
   "source": [
    "def solution(N, number):\n",
    "    # dp 배열 초기화: 최대 32,000까지 처리할 수 있도록 크기 설정\n",
    "    dp = [float('inf')] * 32001  # dp[i]는 숫자 i를 만들기 위한 최소 N 사용 횟수\n",
    "    dp[0] = 0  # 0을 만드는 데 필요한 N의 사용 횟수는 0 (아무것도 안 쓰면 되니까)\n",
    "\n",
    "    # N을 여러 번 이어붙인 값들을 dp 배열에 채운다\n",
    "    for i in range(1, 9):  # 최대 8번까지 N을 이어붙인 값들을 고려\n",
    "        current = int(str(N) * i)  # N을 i번 이어붙인 수 (예: N=5, i=2 -> 55)\n",
    "        if current <= 32000:  # 최대 number값은 32,000\n",
    "            dp[current] = min(dp[current], i)  # 최소 횟수 갱신\n",
    "\n",
    "    # 사칙연산을 통해 dp 배열을 갱신\n",
    "    for i in range(1, 32001):\n",
    "        for j in range(1, i // 2 + 1):\n",
    "            # 덧셈, 뺄셈 처리\n",
    "            dp[i] = min(dp[i], dp[i - j] + dp[j])  # 덧셈\n",
    "            dp[i] = min(dp[i], dp[j] + dp[i - j])  # 뺄셈 (두 번째 값이 양수일 경우)\n",
    "            # 곱셈 처리\n",
    "            dp[i] = min(dp[i], dp[i // j] + dp[j])  # 곱셈\n",
    "            # 나누기 처리 (나누어 떨어지는 경우만)\n",
    "            if i % j == 0:\n",
    "                dp[i] = min(dp[i], dp[i // j] + dp[j])  # 나누기\n",
    "\n",
    "    # dp[number]가 갱신되었으면 그 값을 반환\n",
    "    return dp[number] if dp[number] != float('inf') else -1\n",
    "\n",
    "# 테스트\n",
    "print(solution(5, 12))  # 예시: 12를 5로 만들 수 있는 최소 횟수\n",
    "print(solution(2, 11))  # 예시: 11을 2로 만들 수 있는 최소 횟수\n"
   ]
  }
 ],
 "metadata": {
  "kernelspec": {
   "display_name": "Python 3",
   "language": "python",
   "name": "python3"
  },
  "language_info": {
   "codemirror_mode": {
    "name": "ipython",
    "version": 3
   },
   "file_extension": ".py",
   "mimetype": "text/x-python",
   "name": "python",
   "nbconvert_exporter": "python",
   "pygments_lexer": "ipython3",
   "version": "3.12.5"
  }
 },
 "nbformat": 4,
 "nbformat_minor": 2
}
