{
 "cells": [
  {
   "cell_type": "code",
   "execution_count": 135,
   "metadata": {},
   "outputs": [
    {
     "name": "stdout",
     "output_type": "stream",
     "text": [
      "1 1 1\n",
      "2 1 0\n",
      "3 1 0\n",
      "4 1 0\n",
      "1 2 0\n",
      "2 2 -1\n",
      "3 2 0\n",
      "4 2 0\n",
      "1 3 0\n",
      "2 3 0\n",
      "3 3 0\n",
      "4 3 0\n",
      "[[0, 0, 0, 0, 0], [0, 1, 1, 1, 1], [0, 1, -1, 1, 2], [0, 1, 1, 2, 4]]\n"
     ]
    }
   ],
   "source": [
    "def solution(m, n, p):\n",
    "    dp = [[0] * (m+1) for _ in range(n+1)]\n",
    "    dp[1][1] = 1\n",
    "    for x,y in p:\n",
    "        dp[y][x] = -1\n",
    "    for y in range(1,n+1):\n",
    "        for x in range(1,m+1):\n",
    "            print(x,y,dp[y][x])\n",
    "            if dp[y][x] == 0:\n",
    "                if dp[y-1][x] != -1:\n",
    "                    dp[y][x] += dp[y-1][x]\n",
    "                if dp[y][x-1] != -1:\n",
    "                    dp[y][x] += dp[y][x-1]\n",
    "    print(dp)\n",
    "solution(4,3,[[2,2]])"
   ]
  }
 ],
 "metadata": {
  "kernelspec": {
   "display_name": "Python 3",
   "language": "python",
   "name": "python3"
  },
  "language_info": {
   "codemirror_mode": {
    "name": "ipython",
    "version": 3
   },
   "file_extension": ".py",
   "mimetype": "text/x-python",
   "name": "python",
   "nbconvert_exporter": "python",
   "pygments_lexer": "ipython3",
   "version": "3.12.5"
  }
 },
 "nbformat": 4,
 "nbformat_minor": 2
}
