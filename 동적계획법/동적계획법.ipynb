{
 "cells": [
  {
   "cell_type": "code",
   "execution_count": 126,
   "metadata": {},
   "outputs": [
    {
     "name": "stdout",
     "output_type": "stream",
     "text": [
      "30\n"
     ]
    }
   ],
   "source": [
    "def solution(tri):\n",
    "    for i in range(1,len(tri)):\n",
    "        for j in range(i+1):\n",
    "            if j == 0:\n",
    "                tri[i][0] += tri[i-1][0]\n",
    "            elif j == len(tri[i])-1:\n",
    "                tri[i][-1] += tri[i-1][-1]\n",
    "            else:\n",
    "                tri[i][j] += max(tri[i-1][j-1],tri[i-1][j])\n",
    "    return max(tri[-1])\n",
    "print(solution([[7], [3, 8], [8, 1, 0], [2, 7, 4, 4], [4, 5, 2, 6, 5]]))"
   ]
  }
 ],
 "metadata": {
  "kernelspec": {
   "display_name": "Python 3",
   "language": "python",
   "name": "python3"
  },
  "language_info": {
   "codemirror_mode": {
    "name": "ipython",
    "version": 3
   },
   "file_extension": ".py",
   "mimetype": "text/x-python",
   "name": "python",
   "nbconvert_exporter": "python",
   "pygments_lexer": "ipython3",
   "version": "3.12.5"
  }
 },
 "nbformat": 4,
 "nbformat_minor": 2
}
