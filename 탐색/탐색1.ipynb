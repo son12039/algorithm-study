{
 "cells": [
  {
   "cell_type": "code",
   "execution_count": 1,
   "metadata": {},
   "outputs": [
    {
     "name": "stdout",
     "output_type": "stream",
     "text": [
      "[40, 2900] 유저들\n",
      "[23, 10000] 유저들\n",
      "[11, 5200] 유저들\n",
      "[5, 5900] 유저들\n",
      "[40, 3100] 유저들\n",
      "[27, 9200] 유저들\n",
      "[32, 6900] 유저들\n",
      "1300 임티들\n",
      "1500 임티들\n",
      "1600 임티들\n",
      "4900 임티들\n"
     ]
    },
    {
     "data": {
      "text/plain": [
       "[]"
      ]
     },
     "execution_count": 1,
     "metadata": {},
     "output_type": "execute_result"
    }
   ],
   "source": [
    "def solution(u, e):\n",
    "    plus = 0\n",
    "    price = 0\n",
    "    for i in u:\n",
    "        print(i,\"유저들\")\n",
    "    for i in e:\n",
    "        print(i,\"임티들\")\n",
    "    answer = []\n",
    "    return answer\n",
    "\n",
    "solution([[40, 2900], [23, 10000], [11, 5200], [5, 5900], [40, 3100], [27, 9200], [32, 6900]],[1300, 1500, 1600, 4900])"
   ]
  }
 ],
 "metadata": {
  "kernelspec": {
   "display_name": "Python 3",
   "language": "python",
   "name": "python3"
  },
  "language_info": {
   "codemirror_mode": {
    "name": "ipython",
    "version": 3
   },
   "file_extension": ".py",
   "mimetype": "text/x-python",
   "name": "python",
   "nbconvert_exporter": "python",
   "pygments_lexer": "ipython3",
   "version": "3.12.5"
  }
 },
 "nbformat": 4,
 "nbformat_minor": 2
}
