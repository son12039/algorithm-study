{
 "cells": [
  {
   "cell_type": "code",
   "execution_count": null,
   "metadata": {},
   "outputs": [
    {
     "name": "stdout",
     "output_type": "stream",
     "text": [
      "헐\n",
      "['I', '16']\n",
      "헐\n",
      "['I', '-5643']\n",
      "['D', '-1']\n",
      "['D', '1']\n",
      "['D', '1']\n",
      "헐\n",
      "['I', '123']\n",
      "['D', '-1']\n",
      "[]\n"
     ]
    },
    {
     "ename": "",
     "evalue": "",
     "output_type": "error",
     "traceback": [
      "\u001b[1;31mThe Kernel crashed while executing code in the current cell or a previous cell. \n",
      "\u001b[1;31mPlease review the code in the cell(s) to identify a possible cause of the failure. \n",
      "\u001b[1;31mClick <a href='https://aka.ms/vscodeJupyterKernelCrash'>here</a> for more info. \n",
      "\u001b[1;31mView Jupyter <a href='command:jupyter.viewOutput'>log</a> for further details."
     ]
    }
   ],
   "source": [
    "from collections import deque\n",
    "def solution(oper):\n",
    "    stack = deque()\n",
    "    for i in range(len(oper)):\n",
    "        a = oper[i].split()\n",
    "        if(a[0]==\"I\"):\n",
    "            stack.append(a[1])\n",
    "        elif a[1] == 1:\n",
    "            stack.pop\n",
    "        else \n",
    "        print(a)\n",
    "    answer = []\n",
    "    return answer\n",
    "print(solution([\"I 16\", \"I -5643\", \"D -1\", \"D 1\", \"D 1\", \"I 123\", \"D -1\"]))"
   ]
  }
 ],
 "metadata": {
  "kernelspec": {
   "display_name": "Python 3",
   "language": "python",
   "name": "python3"
  },
  "language_info": {
   "codemirror_mode": {
    "name": "ipython",
    "version": 3
   },
   "file_extension": ".py",
   "mimetype": "text/x-python",
   "name": "python",
   "nbconvert_exporter": "python",
   "pygments_lexer": "ipython3",
   "version": "3.12.5"
  }
 },
 "nbformat": 4,
 "nbformat_minor": 2
}
