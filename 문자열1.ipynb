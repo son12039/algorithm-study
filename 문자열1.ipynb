{
 "cells": [
  {
   "cell_type": "code",
   "execution_count": null,
   "metadata": {},
   "outputs": [
    {
     "data": {
      "text/plain": [
       "5"
      ]
     },
     "execution_count": 30,
     "metadata": {},
     "output_type": "execute_result"
    }
   ],
   "source": [
    "def solution(s):\n",
    "    a = 0\n",
    "    count = 1\n",
    "    cur = s[0]\n",
    "    for i in s[1:]:\n",
    "        if not cur:\n",
    "            cur = i\n",
    "        else :\n",
    "            if  i == cur:\n",
    "                count += 1\n",
    "            else :\n",
    "                count -= 1\n",
    "            if count == 0:\n",
    "                a += 1\n",
    "                cur = \"\"                                                 \n",
    "                count = 1\n",
    "    if cur != \"\": \n",
    "        a += 1 \n",
    "    return a\n",
    "\n",
    "solution(\"banana\")"
   ]
  }
 ],
 "metadata": {
  "kernelspec": {
   "display_name": "Python 3",
   "language": "python",
   "name": "python3"
  },
  "language_info": {
   "codemirror_mode": {
    "name": "ipython",
    "version": 3
   },
   "file_extension": ".py",
   "mimetype": "text/x-python",
   "name": "python",
   "nbconvert_exporter": "python",
   "pygments_lexer": "ipython3",
   "version": "3.12.5"
  }
 },
 "nbformat": 4,
 "nbformat_minor": 2
}
