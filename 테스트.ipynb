{
 "cells": [
  {
   "cell_type": "code",
   "execution_count": 1,
   "metadata": {},
   "outputs": [
    {
     "name": "stdout",
     "output_type": "stream",
     "text": [
      "{2, 4}\n",
      "{3}\n"
     ]
    }
   ],
   "source": [
    "def solution(n, lost, reserve):\n",
    "    reserve = set([2,3, 4]) - set([1, 3, 5])\n",
    "    lost = set(lost) - set(reserve)\n",
    "    print(reserve)\n",
    "    print(lost)\n",
    "\n",
    "solution(5,[2,3, 4],[1, 3, 5])"
   ]
  }
 ],
 "metadata": {
  "kernelspec": {
   "display_name": "Python 3",
   "language": "python",
   "name": "python3"
  },
  "language_info": {
   "codemirror_mode": {
    "name": "ipython",
    "version": 3
   },
   "file_extension": ".py",
   "mimetype": "text/x-python",
   "name": "python",
   "nbconvert_exporter": "python",
   "pygments_lexer": "ipython3",
   "version": "3.12.5"
  }
 },
 "nbformat": 4,
 "nbformat_minor": 2
}
