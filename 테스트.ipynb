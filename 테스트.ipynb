{
 "cells": [
  {
   "cell_type": "code",
   "execution_count": 17,
   "metadata": {},
   "outputs": [
    {
     "name": "stdout",
     "output_type": "stream",
     "text": [
      "102\n"
     ]
    }
   ],
   "source": [
    "def f1(d):\n",
    "    re = 0\n",
    "    for i in d:\n",
    "        re += i\n",
    "    return re\n",
    "\n",
    "def f2(d):\n",
    "    re = 1\n",
    "    for i in d:\n",
    "        re *= i\n",
    "    return re\n",
    "\n",
    "def f3(d):\n",
    "    re = []\n",
    "    while d > 0:\n",
    "        re.append(d%10)\n",
    "        d = d//10\n",
    "    return re\n",
    "l = f3(1234)\n",
    "print(sum(l) + 2*f1(l) + 3*f2(l))\n"
   ]
  }
 ],
 "metadata": {
  "kernelspec": {
   "display_name": "Python 3",
   "language": "python",
   "name": "python3"
  },
  "language_info": {
   "codemirror_mode": {
    "name": "ipython",
    "version": 3
   },
   "file_extension": ".py",
   "mimetype": "text/x-python",
   "name": "python",
   "nbconvert_exporter": "python",
   "pygments_lexer": "ipython3",
   "version": "3.12.5"
  }
 },
 "nbformat": 4,
 "nbformat_minor": 2
}
