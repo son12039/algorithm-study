{
 "cells": [
  {
   "cell_type": "code",
   "execution_count": 3,
   "metadata": {},
   "outputs": [
    {
     "name": "stdout",
     "output_type": "stream",
     "text": [
      "123  1 123  1   123\n",
      "['31123', '41123423', '2123123123']\n"
     ]
    }
   ],
   "source": [
    "def f1(d):\n",
    "    re = 0\n",
    "    for i in d:\n",
    "        re += i\n",
    "    return re\n",
    "def f2(d):\n",
    "    re = 1\n",
    "    for i in d:\n",
    "        re *= i\n",
    "    return re\n",
    "l = [\"41123423\",\"31123\",\"2123123123\"]\n",
    "l.sort(key= lambda x:len(x))\n",
    "print(l)\n",
    "def f3(d):\n",
    "    re = []\n",
    "    while d > 0:\n",
    "        re.append(d%10)\n",
    "        d = d//10\n",
    "    return re\n"
   ]
  }
 ],
 "metadata": {
  "kernelspec": {
   "display_name": "Python 3",
   "language": "python",
   "name": "python3"
  },
  "language_info": {
   "codemirror_mode": {
    "name": "ipython",
    "version": 3
   },
   "file_extension": ".py",
   "mimetype": "text/x-python",
   "name": "python",
   "nbconvert_exporter": "python",
   "pygments_lexer": "ipython3",
   "version": "3.12.5"
  }
 },
 "nbformat": 4,
 "nbformat_minor": 2
}
