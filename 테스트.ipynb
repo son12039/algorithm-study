{
 "cells": [
  {
   "cell_type": "code",
   "execution_count": 1,
   "metadata": {},
   "outputs": [
    {
     "name": "stdout",
     "output_type": "stream",
     "text": [
      "[63000, 56000, 49000, 42000, 81000, 72000, 63000, 54000]\n",
      "111.0\n"
     ]
    }
   ],
   "source": [
    "from itertools import *\n",
    "a = [7000,9000]\n",
    "b = [9,8,7,6]\n",
    "\n",
    "print([int(x * y) for x, y in product(a, b)])\n",
    "\n",
    "print(100//0.9)"
   ]
  }
 ],
 "metadata": {
  "kernelspec": {
   "display_name": "Python 3",
   "language": "python",
   "name": "python3"
  },
  "language_info": {
   "codemirror_mode": {
    "name": "ipython",
    "version": 3
   },
   "file_extension": ".py",
   "mimetype": "text/x-python",
   "name": "python",
   "nbconvert_exporter": "python",
   "pygments_lexer": "ipython3",
   "version": "3.12.5"
  }
 },
 "nbformat": 4,
 "nbformat_minor": 2
}
